{
 "cells": [
  {
   "cell_type": "code",
   "execution_count": 8,
   "metadata": {
    "ExecuteTime": {
     "end_time": "2020-05-27T07:08:40.533020Z",
     "start_time": "2020-05-27T07:08:26.942397Z"
    }
   },
   "outputs": [],
   "source": [
    "import amlutils\n",
    "import tensorflow as tf\n",
    "from tensorflow import keras\n",
    "from tensorflow.keras import layers\n"
   ]
  },
  {
   "cell_type": "code",
   "execution_count": 9,
   "metadata": {
    "ExecuteTime": {
     "end_time": "2020-05-27T07:08:40.545022Z",
     "start_time": "2020-05-27T07:08:40.535268Z"
    }
   },
   "outputs": [
    {
     "data": {
      "text/plain": [
       "'2.1.0'"
      ]
     },
     "execution_count": 9,
     "metadata": {},
     "output_type": "execute_result"
    }
   ],
   "source": [
    "tf.__version__"
   ]
  },
  {
   "cell_type": "code",
   "execution_count": null,
   "metadata": {
    "ExecuteTime": {
     "end_time": "2020-05-27T07:08:41.090178Z",
     "start_time": "2020-05-27T07:08:40.548929Z"
    }
   },
   "outputs": [],
   "source": [
    "physical_devices = tf.config.list_physical_devices('GPU') \n",
    "tf.config.experimental.set_memory_growth(physical_devices[0], True"
   ]
  },
  {
   "cell_type": "markdown",
   "metadata": {},
   "source": [
    "## Parse Training Data"
   ]
  },
  {
   "cell_type": "code",
   "execution_count": 11,
   "metadata": {
    "ExecuteTime": {
     "end_time": "2020-05-27T07:08:46.274768Z",
     "start_time": "2020-05-27T07:08:44.676655Z"
    }
   },
   "outputs": [
    {
     "name": "stdout",
     "output_type": "stream",
     "text": [
      "['', 'Unnamed: 0', 'Query', 'Description']\n",
      "72292\n"
     ]
    }
   ],
   "source": [
    "csv_file = \"./data/Top30.csv\"\n",
    "csv_data = amlutils.csv_utils.parse_csv_file(csv_file, quotechar='\"', encoding=\"latin-1\")\n",
    "headers = csv_data[0]\n",
    "csv_data = csv_data[1:]\n",
    "print(headers)\n",
    "print(len(csv_data))"
   ]
  },
  {
   "cell_type": "code",
   "execution_count": 12,
   "metadata": {
    "ExecuteTime": {
     "end_time": "2020-05-27T07:08:46.280729Z",
     "start_time": "2020-05-27T07:08:46.277054Z"
    }
   },
   "outputs": [],
   "source": [
    "import re\n",
    "def striphtml(data):\n",
    "    p = re.compile(r'<.*?>')\n",
    "    return p.sub('', data)\n",
    "\n",
    "def stripnewlinechars(data):\n",
    "    data = data.replace(r\"\\n\", \"\")\n",
    "    data = data.replace(r\"\\r\", \"\")\n",
    "    return data\n"
   ]
  },
  {
   "cell_type": "code",
   "execution_count": 13,
   "metadata": {
    "ExecuteTime": {
     "end_time": "2020-05-27T07:08:47.330931Z",
     "start_time": "2020-05-27T07:08:46.283289Z"
    }
   },
   "outputs": [],
   "source": [
    "job_description_index = headers.index(\"Description\")\n",
    "job_title_index = headers.index(\"Query\")\n",
    "job_titles = [row[job_title_index] for row in csv_data]\n",
    "job_descriptions = [row[job_description_index] for row in csv_data]\n",
    "no_html_tags_descriptions = [striphtml(desc) for desc in job_descriptions]\n"
   ]
  },
  {
   "cell_type": "markdown",
   "metadata": {},
   "source": [
    "## Ensure there is no Job Title in description"
   ]
  },
  {
   "cell_type": "code",
   "execution_count": 14,
   "metadata": {
    "ExecuteTime": {
     "end_time": "2020-05-27T07:08:47.504744Z",
     "start_time": "2020-05-27T07:08:47.333342Z"
    }
   },
   "outputs": [
    {
     "data": {
      "text/plain": [
       "('This Administrative Assistant position is responsible for performing a variety of clerical and administrative support functions in the areas of communications, data entry and retrieval, typing, filing, copying, and coordination of related administrative activities. \\\\r\\\\n\\\\r\\\\nJOB REQUIREMENTS:\\\\r\\\\nAttention to detail\\\\r\\\\nAbility to work in a fast paced environment\\\\r\\\\nInvoicing\\\\r\\\\nProficient in Word, Excel and Outlook\\\\r\\\\nOther Administrative responsibilities as needed.\\\\r\\\\n\\\\r\\\\nQUALIFICATIONS:\\\\r\\\\nHigh School Diploma\\\\r\\\\nAdministrative Assistant Experience\\\\r\\\\n1-2 Years work experience\\\\r\\\\nWorking knowledge of all basic office machines (fax, copier, 10key, etc.)\\\\r\\\\nStrong verbal and written communication skills\\\\r\\\\nStrong work ethic.',\n",
       " 'This  position is responsible for performing a variety of clerical and administrative support functions in the areas of communications, data entry and retrieval, typing, filing, copying, and coordination of related administrative activities. \\\\r\\\\n\\\\r\\\\nJOB REQUIREMENTS:\\\\r\\\\nAttention to detail\\\\r\\\\nAbility to work in a fast paced environment\\\\r\\\\nInvoicing\\\\r\\\\nProficient in Word, Excel and Outlook\\\\r\\\\nOther Administrative responsibilities as needed.\\\\r\\\\n\\\\r\\\\nQUALIFICATIONS:\\\\r\\\\nHigh School Diploma\\\\r\\\\n Experience\\\\r\\\\n1-2 Years work experience\\\\r\\\\nWorking knowledge of all basic office machines (fax, copier, 10key, etc.)\\\\r\\\\nStrong verbal and written communication skills\\\\r\\\\nStrong work ethic.')"
      ]
     },
     "execution_count": 14,
     "metadata": {},
     "output_type": "execute_result"
    }
   ],
   "source": [
    "no_label_in_descriptions= [\n",
    "    desc.replace(job_titles[i], \"\") for i, desc in enumerate(no_html_tags_descriptions)\n",
    "]\n",
    "no_html_tags_descriptions[0], no_label_in_descriptions[0]"
   ]
  },
  {
   "cell_type": "code",
   "execution_count": 16,
   "metadata": {
    "ExecuteTime": {
     "end_time": "2020-05-27T07:08:50.060950Z",
     "start_time": "2020-05-27T07:08:50.052871Z"
    }
   },
   "outputs": [
    {
     "name": "stdout",
     "output_type": "stream",
     "text": [
      "Num Classes: 30\n"
     ]
    }
   ],
   "source": [
    "classes = set(job_titles)\n",
    "num_clasess = len(classes)\n",
    "vocabulary_size = 5000\n",
    "num_samples = len(job_titles)\n",
    "\n",
    "class_str_to_index = {label: index for index, label in enumerate(classes)}\n",
    "index_to_class = {index: label for label, index in class_str_to_index.items()}\n",
    "\n",
    "# convert string labels to integer indices for training\n",
    "job_titles_indexed = [class_str_to_index[job_title] for job_title in job_titles]\n",
    "print(f\"Num Classes: {len(classes)}, Num Samples: {num_samples}\")"
   ]
  },
  {
   "cell_type": "code",
   "execution_count": 18,
   "metadata": {
    "ExecuteTime": {
     "end_time": "2020-05-27T07:09:13.929652Z",
     "start_time": "2020-05-27T07:08:50.086135Z"
    }
   },
   "outputs": [],
   "source": [
    "text_tokenizer = tf.keras.preprocessing.text.Tokenizer(\n",
    "    num_words=vocabulary_size\n",
    ")\n",
    "text_tokenizer.fit_on_texts(no_label_in_descriptions)\n",
    "train_sequences = text_tokenizer.texts_to_sequences(no_html_tags_descriptions)"
   ]
  },
  {
   "cell_type": "code",
   "execution_count": 19,
   "metadata": {
    "ExecuteTime": {
     "end_time": "2020-05-27T07:09:13.935848Z",
     "start_time": "2020-05-27T07:09:13.931796Z"
    }
   },
   "outputs": [],
   "source": [
    "index = 100\n",
    "subset_train_sequences, subset_job_titles = train_sequences[:index], job_titles_indexed[:index]"
   ]
  },
  {
   "cell_type": "code",
   "execution_count": 73,
   "metadata": {
    "ExecuteTime": {
     "end_time": "2020-05-27T09:39:59.405855Z",
     "start_time": "2020-05-27T09:39:59.382837Z"
    }
   },
   "outputs": [],
   "source": [
    "batch_size = 64\n",
    "dataset = tf.data.Dataset.from_generator(\n",
    "    lambda: zip(train_sequences, job_titles_indexed),\n",
    "    output_types=(tf.int32, tf.int32),\n",
    ")\n",
    "\n",
    "dataset = dataset.shuffle(100000).map(\n",
    "    lambda features, label: (features, label)\n",
    ").padded_batch(\n",
    "    batch_size=batch_size,\n",
    "    padded_shapes=((None,), ()),\n",
    ").prefetch(\n",
    "    buffer_size=tf.data.experimental.AUTOTUNE\n",
    ")\n"
   ]
  },
  {
   "cell_type": "code",
   "execution_count": 74,
   "metadata": {
    "ExecuteTime": {
     "end_time": "2020-05-27T09:39:59.599083Z",
     "start_time": "2020-05-27T09:39:59.596005Z"
    }
   },
   "outputs": [
    {
     "name": "stdout",
     "output_type": "stream",
     "text": [
      "903 226\n"
     ]
    }
   ],
   "source": [
    "num_train_samples = int(0.8 * num_samples // batch_size)\n",
    "num_test_samples = num_samples // batch_size - num_train_samples\n",
    "print(num_train_samples, num_test_samples)"
   ]
  },
  {
   "cell_type": "code",
   "execution_count": 75,
   "metadata": {
    "ExecuteTime": {
     "end_time": "2020-05-27T09:39:59.762652Z",
     "start_time": "2020-05-27T09:39:59.759969Z"
    }
   },
   "outputs": [],
   "source": [
    "train_dataset = dataset.take(num_train_samples)\n",
    "test_dataset = dataset.skip(num_train_samples)"
   ]
  },
  {
   "cell_type": "code",
   "execution_count": 76,
   "metadata": {
    "ExecuteTime": {
     "end_time": "2020-05-27T09:40:05.562186Z",
     "start_time": "2020-05-27T09:39:59.899232Z"
    }
   },
   "outputs": [
    {
     "data": {
      "text/plain": [
       "227"
      ]
     },
     "execution_count": 76,
     "metadata": {},
     "output_type": "execute_result"
    }
   ],
   "source": [
    "len(list(test_dataset.as_numpy_iterator()))"
   ]
  },
  {
   "cell_type": "code",
   "execution_count": 77,
   "metadata": {
    "ExecuteTime": {
     "end_time": "2020-05-27T09:40:07.214670Z",
     "start_time": "2020-05-27T09:40:07.212143Z"
    }
   },
   "outputs": [],
   "source": [
    "# list(train_dataset.as_numpy_iterator())"
   ]
  },
  {
   "cell_type": "code",
   "execution_count": 78,
   "metadata": {
    "ExecuteTime": {
     "end_time": "2020-05-27T09:40:07.777464Z",
     "start_time": "2020-05-27T09:40:07.447767Z"
    }
   },
   "outputs": [],
   "source": [
    "model = tf.keras.Sequential([\n",
    "    tf.keras.layers.Embedding(vocabulary_size, 32),\n",
    "    tf.keras.layers.Bidirectional(tf.keras.layers.LSTM(32)),\n",
    "    tf.keras.layers.Dense(32, activation='relu'),\n",
    "    tf.keras.layers.Dense(num_clasess)   \n",
    "])"
   ]
  },
  {
   "cell_type": "code",
   "execution_count": 79,
   "metadata": {
    "ExecuteTime": {
     "end_time": "2020-05-27T09:40:07.811456Z",
     "start_time": "2020-05-27T09:40:07.779905Z"
    }
   },
   "outputs": [],
   "source": [
    "model.compile(\n",
    "    loss=tf.keras.losses.SparseCategoricalCrossentropy(from_logits=True),\n",
    "    optimizer=tf.keras.optimizers.Adam(1e-4),\n",
    "    metrics=['accuracy'],\n",
    ")"
   ]
  },
  {
   "cell_type": "code",
   "execution_count": 80,
   "metadata": {
    "ExecuteTime": {
     "end_time": "2020-05-27T09:40:08.169357Z",
     "start_time": "2020-05-27T09:40:08.160894Z"
    }
   },
   "outputs": [
    {
     "name": "stdout",
     "output_type": "stream",
     "text": [
      "Model: \"sequential_1\"\n",
      "_________________________________________________________________\n",
      "Layer (type)                 Output Shape              Param #   \n",
      "=================================================================\n",
      "embedding_1 (Embedding)      (None, None, 32)          160000    \n",
      "_________________________________________________________________\n",
      "bidirectional_1 (Bidirection (None, 64)                16640     \n",
      "_________________________________________________________________\n",
      "dense_2 (Dense)              (None, 32)                2080      \n",
      "_________________________________________________________________\n",
      "dense_3 (Dense)              (None, 30)                990       \n",
      "=================================================================\n",
      "Total params: 179,710\n",
      "Trainable params: 179,710\n",
      "Non-trainable params: 0\n",
      "_________________________________________________________________\n"
     ]
    }
   ],
   "source": [
    "model.summary()"
   ]
  },
  {
   "cell_type": "code",
   "execution_count": 99,
   "metadata": {
    "ExecuteTime": {
     "end_time": "2020-05-27T13:40:46.607024Z",
     "start_time": "2020-05-27T13:25:54.008133Z"
    }
   },
   "outputs": [
    {
     "name": "stdout",
     "output_type": "stream",
     "text": [
      "Epoch 1/2\n",
      "903/903 [==============================] - 424s 469ms/step - loss: 0.3293 - accuracy: 0.9104\n",
      "Epoch 2/2\n",
      "903/903 [==============================] - 469s 519ms/step - loss: 0.2926 - accuracy: 0.9192\n"
     ]
    }
   ],
   "source": [
    "history = model.fit(\n",
    "    train_dataset,\n",
    "    epochs=2,\n",
    ")"
   ]
  },
  {
   "cell_type": "markdown",
   "metadata": {},
   "source": [
    "## Evaluation on Random Sample"
   ]
  },
  {
   "cell_type": "code",
   "execution_count": 100,
   "metadata": {
    "ExecuteTime": {
     "end_time": "2020-05-27T13:42:09.790581Z",
     "start_time": "2020-05-27T13:42:08.886570Z"
    }
   },
   "outputs": [
    {
     "name": "stdout",
     "output_type": "stream",
     "text": [
      "48525 13 Inside Sales Representative tf.Tensor([13], shape=(1,), dtype=int64)\n"
     ]
    }
   ],
   "source": [
    "import random\n",
    "index = random.randint(0, len(job_titles_indexed)-1)\n",
    "description = no_label_in_descriptions[index]\n",
    "description_sequence = text_tokenizer.texts_to_sequences([description])\n",
    "label = model.predict(description_sequence)\n",
    "softmax_labels = tf.nn.softmax(label)\n",
    "print(index, job_titles_indexed[index], index_to_class[job_titles_indexed[index]], tf.math.argmax(softmax_labels, axis=1))\n",
    "\n",
    "# print(description, description_sequence, )"
   ]
  },
  {
   "cell_type": "markdown",
   "metadata": {},
   "source": [
    "## Evaluation on Test Dataset"
   ]
  },
  {
   "cell_type": "code",
   "execution_count": 101,
   "metadata": {
    "ExecuteTime": {
     "end_time": "2020-05-27T13:44:19.020357Z",
     "start_time": "2020-05-27T13:42:11.752051Z"
    }
   },
   "outputs": [
    {
     "name": "stdout",
     "output_type": "stream",
     "text": [
      "WARNING:tensorflow:5 out of the last 25 calls to <function _make_execution_function.<locals>.distributed_function at 0x7f8f1840cc80> triggered tf.function retracing. Tracing is expensive and the excessive number of tracings is likely due to passing python objects instead of tensors. Also, tf.function has experimental_relax_shapes=True option that relaxes argument shapes that can avoid unnecessary retracing. Please refer to https://www.tensorflow.org/tutorials/customization/performance#python_or_tensor_args and https://www.tensorflow.org/api_docs/python/tf/function for more details.\n"
     ]
    },
    {
     "data": {
      "text/plain": [
       "(14500, 14500)"
      ]
     },
     "execution_count": 101,
     "metadata": {},
     "output_type": "execute_result"
    }
   ],
   "source": [
    "gts = []\n",
    "predictions = []\n",
    "for batch in test_dataset:\n",
    "    features, gt = batch\n",
    "    prediction = model.predict_classes(features)\n",
    "    gts.extend(gt)\n",
    "    predictions.extend(prediction)\n",
    "len(gts), len(predictions)"
   ]
  },
  {
   "cell_type": "code",
   "execution_count": 102,
   "metadata": {
    "ExecuteTime": {
     "end_time": "2020-05-27T13:44:19.060953Z",
     "start_time": "2020-05-27T13:44:19.023777Z"
    }
   },
   "outputs": [
    {
     "data": {
      "text/plain": [
       "<tf.Tensor: shape=(), dtype=float32, numpy=0.92255175>"
      ]
     },
     "execution_count": 102,
     "metadata": {},
     "output_type": "execute_result"
    }
   ],
   "source": [
    "accuracy = tf.keras.metrics.Accuracy()\n",
    "accuracy(gts, predictions)"
   ]
  },
  {
   "cell_type": "code",
   "execution_count": 103,
   "metadata": {
    "ExecuteTime": {
     "end_time": "2020-05-27T13:44:20.217079Z",
     "start_time": "2020-05-27T13:44:19.064328Z"
    }
   },
   "outputs": [
    {
     "name": "stdout",
     "output_type": "stream",
     "text": [
      "13377 1123 0.9225517241379311\n"
     ]
    }
   ],
   "source": [
    "total_correct = 0\n",
    "total_incorrect = 0\n",
    "for i in range(len(gts)):\n",
    "    if gts[i] == predictions[i]:\n",
    "        total_correct += 1\n",
    "    else:\n",
    "        total_incorrect += 1\n",
    "print(total_correct, total_incorrect, total_correct/(total_correct + total_incorrect))"
   ]
  },
  {
   "cell_type": "markdown",
   "metadata": {},
   "source": [
    "## Plotting"
   ]
  },
  {
   "cell_type": "code",
   "execution_count": 132,
   "metadata": {
    "ExecuteTime": {
     "end_time": "2020-05-28T06:54:13.322145Z",
     "start_time": "2020-05-28T06:54:13.044079Z"
    }
   },
   "outputs": [],
   "source": [
    "import matplotlib.pyplot as plt\n",
    "\n",
    "def plot_graphs(history, metric):\n",
    "    plt.plot(history.history[metric])\n",
    "    plt.xlabel(\"Epochs\")\n",
    "    plt.ylabel(metric)\n",
    "    plt.legend([metric])\n",
    "    plt.show()"
   ]
  },
  {
   "cell_type": "code",
   "execution_count": 135,
   "metadata": {
    "ExecuteTime": {
     "end_time": "2020-05-28T06:54:58.745155Z",
     "start_time": "2020-05-28T06:54:58.740717Z"
    }
   },
   "outputs": [
    {
     "data": {
      "text/plain": [
       "[0.9103509, 0.91915834]"
      ]
     },
     "execution_count": 135,
     "metadata": {},
     "output_type": "execute_result"
    }
   ],
   "source": [
    "history.history[\"accuracy\"]"
   ]
  },
  {
   "cell_type": "code",
   "execution_count": 133,
   "metadata": {
    "ExecuteTime": {
     "end_time": "2020-05-28T06:54:21.694453Z",
     "start_time": "2020-05-28T06:54:21.370687Z"
    }
   },
   "outputs": [
    {
     "data": {
      "image/png": "[encoded data removed]",
      "text/plain": [
       "<Figure size 432x288 with 1 Axes>"
      ]
     },
     "metadata": {
      "needs_background": "light"
     },
     "output_type": "display_data"
    }
   ],
   "source": [
    "plot_graphs(history, \"accuracy\")"
   ]
  },
  {
   "cell_type": "code",
   "execution_count": null,
   "metadata": {},
   "outputs": [],
   "source": []
  }
 ],
 "metadata": {
  "kernelspec": {
   "display_name": "dl-projects",
   "language": "python",
   "name": "dl-projects"
  },
  "language_info": {
   "codemirror_mode": {
    "name": "ipython",
    "version": 3
   },
   "file_extension": ".py",
   "mimetype": "text/x-python",
   "name": "python",
   "nbconvert_exporter": "python",
   "pygments_lexer": "ipython3",
   "version": "3.6.9"
  }
 },
 "nbformat": 4,
 "nbformat_minor": 4
}
